{
 "cells": [
  {
   "attachments": {},
   "cell_type": "markdown",
   "metadata": {},
   "source": [
    "# Convert to videos"
   ]
  },
  {
   "cell_type": "code",
   "execution_count": null,
   "metadata": {},
   "outputs": [],
   "source": [
    "from PIL import Image\n",
    "import numpy as np\n",
    "import math\n",
    "import os\n",
    "import glob\n",
    "import cv2\n",
    "from MP7_code import video_tracking\n"
   ]
  },
  {
   "cell_type": "code",
   "execution_count": null,
   "metadata": {},
   "outputs": [],
   "source": [
    "img_dir = '/Users/lauramachlab/Library/CloudStorage/OneDrive-Personal/Documents/_northwestern/_MSAI/spring 23/Computer vision/MP7/image_girl'\n",
    "SSD_path = '/Users/lauramachlab/Library/CloudStorage/OneDrive-Personal/Documents/_northwestern/_MSAI/spring 23/Computer vision/MP7/SSD_images'\n",
    "CC_path = '/Users/lauramachlab/Library/CloudStorage/OneDrive-Personal/Documents/_northwestern/_MSAI/spring 23/Computer vision/MP7/CC_images'\n",
    "NCC_path = '/Users/lauramachlab/Library/CloudStorage/OneDrive-Personal/Documents/_northwestern/_MSAI/spring 23/Computer vision/MP7/NCC_images'\n",
    "\n",
    "SSD_name = 'SSD_video.mp4'\n",
    "CC_name = 'CC_video.mp4'\n",
    "NCC_name = 'NCC_video.mp4'\n",
    "\n",
    "\n",
    "frame_rate = 25\n",
    "\n",
    "\n",
    "frame_size = (128, 96)\n",
    "\n"
   ]
  },
  {
   "attachments": {},
   "cell_type": "markdown",
   "metadata": {},
   "source": [
    "## SSD"
   ]
  },
  {
   "cell_type": "code",
   "execution_count": null,
   "metadata": {},
   "outputs": [],
   "source": [
    "img_files = os.listdir(SSD_path)\n",
    "img_files.sort()\n",
    "img_files = [\"{}.jpg\".format(i) for i in range(1,501)]\n",
    "\n",
    "fourcc = cv2.VideoWriter_fourcc(*'mp4v')\n",
    "out = cv2.VideoWriter(SSD_name, fourcc, frame_rate, frame_size)\n",
    "\n",
    "for img_file in img_files:\n",
    "    img_path = os.path.join(SSD_path, img_file)\n",
    "    img = cv2.imread(img_path)\n",
    "    img = cv2.resize(img, frame_size)\n",
    "    out.write(img)\n",
    "\n",
    "out.release()\n",
    "cv2.destroyAllWindows()"
   ]
  },
  {
   "attachments": {},
   "cell_type": "markdown",
   "metadata": {},
   "source": [
    "## CC"
   ]
  },
  {
   "cell_type": "code",
   "execution_count": null,
   "metadata": {},
   "outputs": [],
   "source": [
    "img_files = os.listdir(CC_path)\n",
    "img_files.sort()\n",
    "img_files = [\"{}.jpg\".format(i) for i in range(1,501)]\n",
    "\n",
    "fourcc = cv2.VideoWriter_fourcc(*'mp4v')\n",
    "out = cv2.VideoWriter(CC_name, fourcc, frame_rate, frame_size)\n",
    "\n",
    "for img_file in img_files:\n",
    "    img_path = os.path.join(CC_path, img_file)\n",
    "    img = cv2.imread(img_path)\n",
    "    img = cv2.resize(img, frame_size)\n",
    "    out.write(img)\n",
    "\n",
    "out.release()\n",
    "cv2.destroyAllWindows()"
   ]
  },
  {
   "attachments": {},
   "cell_type": "markdown",
   "metadata": {},
   "source": [
    "## NCC"
   ]
  },
  {
   "cell_type": "code",
   "execution_count": null,
   "metadata": {},
   "outputs": [],
   "source": [
    "img_files = sorted(os.listdir(NCC_path))\n",
    "img_files.sort()\n",
    "img_files = [\"{}.jpg\".format(i) for i in range(1,501)]\n",
    "\n",
    "fourcc = cv2.VideoWriter_fourcc(*'mp4v')\n",
    "out = cv2.VideoWriter(NCC_name, fourcc, frame_rate, frame_size)\n",
    "\n",
    "for img_file in img_files:\n",
    "    img_path = os.path.join(NCC_path, img_file)\n",
    "    img = cv2.imread(img_path)\n",
    "    img = cv2.resize(img, frame_size)\n",
    "    out.write(img)\n",
    "\n",
    "out.release()\n",
    "cv2.destroyAllWindows()"
   ]
  },
  {
   "cell_type": "code",
   "execution_count": null,
   "metadata": {},
   "outputs": [],
   "source": []
  }
 ],
 "metadata": {
  "kernelspec": {
   "display_name": "MP7_venv",
   "language": "python",
   "name": "python3"
  },
  "language_info": {
   "codemirror_mode": {
    "name": "ipython",
    "version": 3
   },
   "file_extension": ".py",
   "mimetype": "text/x-python",
   "name": "python",
   "nbconvert_exporter": "python",
   "pygments_lexer": "ipython3",
   "version": "3.9.13"
  },
  "orig_nbformat": 4
 },
 "nbformat": 4,
 "nbformat_minor": 2
}
